{
 "cells": [
  {
   "cell_type": "code",
   "execution_count": 8,
   "metadata": {},
   "outputs": [
    {
     "name": "stdout",
     "output_type": "stream",
     "text": [
      "('紙箱', True)\n"
     ]
    }
   ],
   "source": [
    "from gcp import WasteService\n",
    "\n",
    "service = WasteService()\n",
    "\n",
    "def img_classify(image_path):\n",
    "    result = service.classify(image_path)\n",
    "    return result['class_name'], result['recycle']\n",
    "\n",
    "if __name__ == '__main__':\n",
    "    print(img_classify('images/image.jpg'))"
   ]
  }
 ],
 "metadata": {
  "kernelspec": {
   "display_name": "food",
   "language": "python",
   "name": "python3"
  },
  "language_info": {
   "codemirror_mode": {
    "name": "ipython",
    "version": 3
   },
   "file_extension": ".py",
   "mimetype": "text/x-python",
   "name": "python",
   "nbconvert_exporter": "python",
   "pygments_lexer": "ipython3",
   "version": "3.10.11"
  }
 },
 "nbformat": 4,
 "nbformat_minor": 2
}
